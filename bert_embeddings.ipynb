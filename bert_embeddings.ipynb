{
 "cells": [
  {
   "cell_type": "markdown",
   "metadata": {},
   "source": [
    "# NN - Домашнее задание 4"
   ]
  },
  {
   "cell_type": "markdown",
   "metadata": {},
   "source": [
    "- получить эмбединги любой трансформенной моделью (например, BERT) для каждого предложения для train данных\n",
    "- на полученных эмбедингах построить любую модель или применить любой алгоритм для классификации на целевую переменную из соревнования;\n",
    "- посчитать эмбединги для каждого предложения для test данных (аналогично как для train);\n",
    "- сделать предсказание для test данных на посчитанных эмбеддингах;\n",
    "- сделать сабмит, чтобы узнать свою метрику качества"
   ]
  },
  {
   "cell_type": "code",
   "execution_count": 1,
   "metadata": {
    "execution": {
     "iopub.execute_input": "2024-08-10T09:22:08.477761Z",
     "iopub.status.busy": "2024-08-10T09:22:08.477393Z",
     "iopub.status.idle": "2024-08-10T09:22:15.227838Z",
     "shell.execute_reply": "2024-08-10T09:22:15.227023Z",
     "shell.execute_reply.started": "2024-08-10T09:22:08.477700Z"
    }
   },
   "outputs": [],
   "source": [
    "import numpy as np\n",
    "import pandas as pd\n",
    "from tqdm import tqdm\n",
    "\n",
    "import torch\n",
    "import torch.nn as nn\n",
    "from torch.utils.data import DataLoader, Dataset, TensorDataset  \n",
    "\n",
    "from transformers import BertTokenizer, BertModel\n",
    "\n",
    "from sklearn.model_selection import train_test_split\n",
    "from sklearn.metrics import accuracy_score"
   ]
  },
  {
   "cell_type": "markdown",
   "metadata": {},
   "source": [
    "### Подготовка данных"
   ]
  },
  {
   "cell_type": "code",
   "execution_count": 2,
   "metadata": {
    "execution": {
     "iopub.execute_input": "2024-08-10T09:22:15.230190Z",
     "iopub.status.busy": "2024-08-10T09:22:15.229555Z",
     "iopub.status.idle": "2024-08-10T09:22:15.640544Z",
     "shell.execute_reply": "2024-08-10T09:22:15.639622Z",
     "shell.execute_reply.started": "2024-08-10T09:22:15.230161Z"
    }
   },
   "outputs": [],
   "source": [
    "df_train = pd.read_csv('/kaggle/input/nn-text/train.csv')\n",
    "df_test = pd.read_csv('/kaggle/input/nn-text/test.csv')\n",
    "sample_submission = pd.read_csv('/kaggle/input/nn-text/sample_submission.csv')"
   ]
  },
  {
   "cell_type": "code",
   "execution_count": 3,
   "metadata": {
    "execution": {
     "iopub.execute_input": "2024-08-10T09:22:15.642130Z",
     "iopub.status.busy": "2024-08-10T09:22:15.641776Z",
     "iopub.status.idle": "2024-08-10T09:22:15.660442Z",
     "shell.execute_reply": "2024-08-10T09:22:15.659403Z",
     "shell.execute_reply.started": "2024-08-10T09:22:15.642100Z"
    }
   },
   "outputs": [],
   "source": [
    "df_train = df_train.drop('Unnamed: 0', axis = 1)\n",
    "df_train = df_train[df_train['Rating'] < 6]"
   ]
  },
  {
   "cell_type": "code",
   "execution_count": 4,
   "metadata": {
    "execution": {
     "iopub.execute_input": "2024-08-10T09:22:15.663775Z",
     "iopub.status.busy": "2024-08-10T09:22:15.663073Z",
     "iopub.status.idle": "2024-08-10T09:22:15.671300Z",
     "shell.execute_reply": "2024-08-10T09:22:15.670124Z",
     "shell.execute_reply.started": "2024-08-10T09:22:15.663735Z"
    }
   },
   "outputs": [
    {
     "data": {
      "text/plain": [
       "(14338, 2)"
      ]
     },
     "execution_count": 4,
     "metadata": {},
     "output_type": "execute_result"
    }
   ],
   "source": [
    "df_train.shape"
   ]
  },
  {
   "cell_type": "code",
   "execution_count": 5,
   "metadata": {
    "execution": {
     "iopub.execute_input": "2024-08-10T09:22:15.673333Z",
     "iopub.status.busy": "2024-08-10T09:22:15.672978Z",
     "iopub.status.idle": "2024-08-10T09:22:15.687755Z",
     "shell.execute_reply": "2024-08-10T09:22:15.686764Z",
     "shell.execute_reply.started": "2024-08-10T09:22:15.673308Z"
    }
   },
   "outputs": [
    {
     "data": {
      "text/html": [
       "<div>\n",
       "<style scoped>\n",
       "    .dataframe tbody tr th:only-of-type {\n",
       "        vertical-align: middle;\n",
       "    }\n",
       "\n",
       "    .dataframe tbody tr th {\n",
       "        vertical-align: top;\n",
       "    }\n",
       "\n",
       "    .dataframe thead th {\n",
       "        text-align: right;\n",
       "    }\n",
       "</style>\n",
       "<table border=\"1\" class=\"dataframe\">\n",
       "  <thead>\n",
       "    <tr style=\"text-align: right;\">\n",
       "      <th></th>\n",
       "      <th>Review</th>\n",
       "      <th>Rating</th>\n",
       "    </tr>\n",
       "  </thead>\n",
       "  <tbody>\n",
       "    <tr>\n",
       "      <th>0</th>\n",
       "      <td>foliage silhouette perfect european getaway ho...</td>\n",
       "      <td>4</td>\n",
       "    </tr>\n",
       "    <tr>\n",
       "      <th>1</th>\n",
       "      <td>characterized recommendng clean safe hotel hus...</td>\n",
       "      <td>4</td>\n",
       "    </tr>\n",
       "    <tr>\n",
       "      <th>2</th>\n",
       "      <td>seaweed avoidwe spectacular, booked trip bj wh...</td>\n",
       "      <td>5</td>\n",
       "    </tr>\n",
       "    <tr>\n",
       "      <th>3</th>\n",
       "      <td>week__ç_é_ doona ca n't wait return, hotel mag...</td>\n",
       "      <td>5</td>\n",
       "    </tr>\n",
       "    <tr>\n",
       "      <th>4</th>\n",
       "      <td>choppy marched super budget hotel hubby stayed...</td>\n",
       "      <td>5</td>\n",
       "    </tr>\n",
       "  </tbody>\n",
       "</table>\n",
       "</div>"
      ],
      "text/plain": [
       "                                              Review  Rating\n",
       "0  foliage silhouette perfect european getaway ho...       4\n",
       "1  characterized recommendng clean safe hotel hus...       4\n",
       "2  seaweed avoidwe spectacular, booked trip bj wh...       5\n",
       "3  week__ç_é_ doona ca n't wait return, hotel mag...       5\n",
       "4  choppy marched super budget hotel hubby stayed...       5"
      ]
     },
     "execution_count": 5,
     "metadata": {},
     "output_type": "execute_result"
    }
   ],
   "source": [
    "df_train.head()"
   ]
  },
  {
   "cell_type": "code",
   "execution_count": 6,
   "metadata": {
    "execution": {
     "iopub.execute_input": "2024-08-10T09:22:15.689393Z",
     "iopub.status.busy": "2024-08-10T09:22:15.689081Z",
     "iopub.status.idle": "2024-08-10T09:22:15.698346Z",
     "shell.execute_reply": "2024-08-10T09:22:15.697341Z",
     "shell.execute_reply.started": "2024-08-10T09:22:15.689365Z"
    }
   },
   "outputs": [
    {
     "data": {
      "text/html": [
       "<div>\n",
       "<style scoped>\n",
       "    .dataframe tbody tr th:only-of-type {\n",
       "        vertical-align: middle;\n",
       "    }\n",
       "\n",
       "    .dataframe tbody tr th {\n",
       "        vertical-align: top;\n",
       "    }\n",
       "\n",
       "    .dataframe thead th {\n",
       "        text-align: right;\n",
       "    }\n",
       "</style>\n",
       "<table border=\"1\" class=\"dataframe\">\n",
       "  <thead>\n",
       "    <tr style=\"text-align: right;\">\n",
       "      <th></th>\n",
       "      <th>index</th>\n",
       "      <th>Review</th>\n",
       "    </tr>\n",
       "  </thead>\n",
       "  <tbody>\n",
       "    <tr>\n",
       "      <th>0</th>\n",
       "      <td>0</td>\n",
       "      <td>saefood bubbas want iwant ro riu wow, riu bamb...</td>\n",
       "    </tr>\n",
       "    <tr>\n",
       "      <th>1</th>\n",
       "      <td>1</td>\n",
       "      <td>raging she__ç_éö enjoyably different just retu...</td>\n",
       "    </tr>\n",
       "    <tr>\n",
       "      <th>2</th>\n",
       "      <td>2</td>\n",
       "      <td>boading terrifying best vacation, husband went...</td>\n",
       "    </tr>\n",
       "    <tr>\n",
       "      <th>3</th>\n",
       "      <td>3</td>\n",
       "      <td>blended enthusastic location location location...</td>\n",
       "    </tr>\n",
       "    <tr>\n",
       "      <th>4</th>\n",
       "      <td>4</td>\n",
       "      <td>peptol insulated love hk good hotel stay noise...</td>\n",
       "    </tr>\n",
       "  </tbody>\n",
       "</table>\n",
       "</div>"
      ],
      "text/plain": [
       "   index                                             Review\n",
       "0      0  saefood bubbas want iwant ro riu wow, riu bamb...\n",
       "1      1  raging she__ç_éö enjoyably different just retu...\n",
       "2      2  boading terrifying best vacation, husband went...\n",
       "3      3  blended enthusastic location location location...\n",
       "4      4  peptol insulated love hk good hotel stay noise..."
      ]
     },
     "execution_count": 6,
     "metadata": {},
     "output_type": "execute_result"
    }
   ],
   "source": [
    "df_test.head()"
   ]
  },
  {
   "cell_type": "code",
   "execution_count": 7,
   "metadata": {
    "execution": {
     "iopub.execute_input": "2024-08-10T09:22:15.699858Z",
     "iopub.status.busy": "2024-08-10T09:22:15.699516Z",
     "iopub.status.idle": "2024-08-10T09:22:15.766552Z",
     "shell.execute_reply": "2024-08-10T09:22:15.765508Z",
     "shell.execute_reply.started": "2024-08-10T09:22:15.699822Z"
    }
   },
   "outputs": [
    {
     "name": "stdout",
     "output_type": "stream",
     "text": [
      "cuda\n"
     ]
    }
   ],
   "source": [
    "device = torch.device(\"cuda\" if torch.cuda.is_available() else \"cpu\")\n",
    "print(device)"
   ]
  },
  {
   "cell_type": "markdown",
   "metadata": {},
   "source": [
    "### Получение эмбеддингов"
   ]
  },
  {
   "cell_type": "code",
   "execution_count": 8,
   "metadata": {
    "execution": {
     "iopub.execute_input": "2024-08-10T09:22:15.768208Z",
     "iopub.status.busy": "2024-08-10T09:22:15.767869Z",
     "iopub.status.idle": "2024-08-10T09:22:20.156809Z",
     "shell.execute_reply": "2024-08-10T09:22:20.155940Z",
     "shell.execute_reply.started": "2024-08-10T09:22:15.768181Z"
    }
   },
   "outputs": [
    {
     "data": {
      "application/vnd.jupyter.widget-view+json": {
       "model_id": "8562cdcf87a54e918e55d12ddefc5a6f",
       "version_major": 2,
       "version_minor": 0
      },
      "text/plain": [
       "tokenizer_config.json:   0%|          | 0.00/48.0 [00:00<?, ?B/s]"
      ]
     },
     "metadata": {},
     "output_type": "display_data"
    },
    {
     "data": {
      "application/vnd.jupyter.widget-view+json": {
       "model_id": "531902c2bbe3445dbf7524cf1de90583",
       "version_major": 2,
       "version_minor": 0
      },
      "text/plain": [
       "vocab.txt:   0%|          | 0.00/232k [00:00<?, ?B/s]"
      ]
     },
     "metadata": {},
     "output_type": "display_data"
    },
    {
     "data": {
      "application/vnd.jupyter.widget-view+json": {
       "model_id": "cc2ebc1e89bf495abb816139c5a1fafd",
       "version_major": 2,
       "version_minor": 0
      },
      "text/plain": [
       "tokenizer.json:   0%|          | 0.00/466k [00:00<?, ?B/s]"
      ]
     },
     "metadata": {},
     "output_type": "display_data"
    },
    {
     "data": {
      "application/vnd.jupyter.widget-view+json": {
       "model_id": "e0b6342f16194ce68d6701d2b86391f5",
       "version_major": 2,
       "version_minor": 0
      },
      "text/plain": [
       "config.json:   0%|          | 0.00/570 [00:00<?, ?B/s]"
      ]
     },
     "metadata": {},
     "output_type": "display_data"
    },
    {
     "data": {
      "application/vnd.jupyter.widget-view+json": {
       "model_id": "48c5253334d448f3b79266f1ab751bb0",
       "version_major": 2,
       "version_minor": 0
      },
      "text/plain": [
       "model.safetensors:   0%|          | 0.00/440M [00:00<?, ?B/s]"
      ]
     },
     "metadata": {},
     "output_type": "display_data"
    },
    {
     "data": {
      "text/plain": [
       "BertModel(\n",
       "  (embeddings): BertEmbeddings(\n",
       "    (word_embeddings): Embedding(30522, 768, padding_idx=0)\n",
       "    (position_embeddings): Embedding(512, 768)\n",
       "    (token_type_embeddings): Embedding(2, 768)\n",
       "    (LayerNorm): LayerNorm((768,), eps=1e-12, elementwise_affine=True)\n",
       "    (dropout): Dropout(p=0.1, inplace=False)\n",
       "  )\n",
       "  (encoder): BertEncoder(\n",
       "    (layer): ModuleList(\n",
       "      (0-11): 12 x BertLayer(\n",
       "        (attention): BertAttention(\n",
       "          (self): BertSdpaSelfAttention(\n",
       "            (query): Linear(in_features=768, out_features=768, bias=True)\n",
       "            (key): Linear(in_features=768, out_features=768, bias=True)\n",
       "            (value): Linear(in_features=768, out_features=768, bias=True)\n",
       "            (dropout): Dropout(p=0.1, inplace=False)\n",
       "          )\n",
       "          (output): BertSelfOutput(\n",
       "            (dense): Linear(in_features=768, out_features=768, bias=True)\n",
       "            (LayerNorm): LayerNorm((768,), eps=1e-12, elementwise_affine=True)\n",
       "            (dropout): Dropout(p=0.1, inplace=False)\n",
       "          )\n",
       "        )\n",
       "        (intermediate): BertIntermediate(\n",
       "          (dense): Linear(in_features=768, out_features=3072, bias=True)\n",
       "          (intermediate_act_fn): GELUActivation()\n",
       "        )\n",
       "        (output): BertOutput(\n",
       "          (dense): Linear(in_features=3072, out_features=768, bias=True)\n",
       "          (LayerNorm): LayerNorm((768,), eps=1e-12, elementwise_affine=True)\n",
       "          (dropout): Dropout(p=0.1, inplace=False)\n",
       "        )\n",
       "      )\n",
       "    )\n",
       "  )\n",
       "  (pooler): BertPooler(\n",
       "    (dense): Linear(in_features=768, out_features=768, bias=True)\n",
       "    (activation): Tanh()\n",
       "  )\n",
       ")"
      ]
     },
     "execution_count": 8,
     "metadata": {},
     "output_type": "execute_result"
    }
   ],
   "source": [
    "tokenizer = BertTokenizer.from_pretrained('bert-base-uncased')\n",
    "model = BertModel.from_pretrained(\"bert-base-uncased\")\n",
    "\n",
    "model.to(device)"
   ]
  },
  {
   "cell_type": "code",
   "execution_count": 9,
   "metadata": {
    "execution": {
     "iopub.execute_input": "2024-08-10T09:22:20.158773Z",
     "iopub.status.busy": "2024-08-10T09:22:20.158344Z",
     "iopub.status.idle": "2024-08-10T09:22:20.170772Z",
     "shell.execute_reply": "2024-08-10T09:22:20.169829Z",
     "shell.execute_reply.started": "2024-08-10T09:22:20.158713Z"
    }
   },
   "outputs": [
    {
     "name": "stdout",
     "output_type": "stream",
     "text": [
      " Original:  0    foliage silhouette perfect european getaway ho...\n",
      "Name: Review, dtype: object \n",
      "\n",
      "Tokenized:  ['foliage', 'silhouette', 'perfect', 'european', 'get', '##away', 'hotel', 'chi', '##c', 'elegant', 'friendly', 'professional', 'staff', ',', 'room', 'small', 'well', '-', 'appointed', 'good', 'use', 'limited', 'space', ',', 'bed', 'comfortable', 'du', '##vet', 'nice', 'pillows', ',', 'complaint', 'room', 'reading', 'lights', 'bed', 'did', 'n', \"'\", 't', 'work', ',', 'be', '##ware', 'breakfast', ',', 'expensive', ',', 'mistakenly', 'assumed', 'breakfast', 'included', 'room', 'thought', 'taken', 'morning', 'coffee', '##s', 'meals', ',', 'good', 'breakfast', ',', 'internet', 'fee', '5', 'euro', '5', 'minutes', 'crazy', 'not', 'choice', 'wanted', 'confirm', 'return', 'flight', 'home', ',', 'room', 'offers', 'free', 'wireless', ',', 'recommend', 'hotel', 'just', 'mind', '##ful', 'extra', 'charges', ',', 'ca', 'n', \"'\", 't', 'beat', 'location', ',', 'members'] \n",
      "\n"
     ]
    }
   ],
   "source": [
    "print(' Original: ', df_train['Review'][:1], '\\n')\n",
    "\n",
    "print('Tokenized: ', tokenizer.tokenize(df_train['Review'][:1].item()), '\\n')"
   ]
  },
  {
   "cell_type": "code",
   "execution_count": 10,
   "metadata": {
    "execution": {
     "iopub.execute_input": "2024-08-10T09:22:20.175618Z",
     "iopub.status.busy": "2024-08-10T09:22:20.175081Z",
     "iopub.status.idle": "2024-08-10T09:22:20.183615Z",
     "shell.execute_reply": "2024-08-10T09:22:20.182555Z",
     "shell.execute_reply.started": "2024-08-10T09:22:20.175586Z"
    }
   },
   "outputs": [],
   "source": [
    "def embed_bert_cls(text, model, tokenizer):\n",
    "    # Токенизация текста\n",
    "    inputs = tokenizer(text, padding=True, truncation=True, return_tensors='pt')\n",
    "\n",
    "    # Перемещение данных на устройство модели (CPU или GPU)\n",
    "    inputs = {k: v.to(model.device) for k, v in inputs.items()}\n",
    "\n",
    "    # Отключение вычисления градиентов для экономии памяти\n",
    "    with torch.no_grad():\n",
    "        model_output = model(**inputs)\n",
    "\n",
    "    # Извлечение эмбеддингов из последнего скрытого состояния\n",
    "    embeddings = model_output.last_hidden_state[:, 0, :]\n",
    "\n",
    "    # Нормализация эмбеддингов\n",
    "    embeddings = torch.nn.functional.normalize(embeddings)\n",
    "\n",
    "    # Возвращаем эмбеддинги в виде numpy массива\n",
    "    return embeddings[0].cpu().numpy()"
   ]
  },
  {
   "cell_type": "code",
   "execution_count": 11,
   "metadata": {
    "execution": {
     "iopub.execute_input": "2024-08-10T09:22:20.185439Z",
     "iopub.status.busy": "2024-08-10T09:22:20.185150Z",
     "iopub.status.idle": "2024-08-10T09:26:14.699351Z",
     "shell.execute_reply": "2024-08-10T09:26:14.698413Z",
     "shell.execute_reply.started": "2024-08-10T09:22:20.185415Z"
    }
   },
   "outputs": [
    {
     "name": "stderr",
     "output_type": "stream",
     "text": [
      "100%|██████████| 14338/14338 [03:54<00:00, 61.14it/s]\n"
     ]
    }
   ],
   "source": [
    "train_embs = [embed_bert_cls(i, model, tokenizer) for i in tqdm(df_train['Review'].values)]"
   ]
  },
  {
   "cell_type": "code",
   "execution_count": 12,
   "metadata": {
    "execution": {
     "iopub.execute_input": "2024-08-10T09:26:14.701939Z",
     "iopub.status.busy": "2024-08-10T09:26:14.700776Z",
     "iopub.status.idle": "2024-08-10T09:27:54.736187Z",
     "shell.execute_reply": "2024-08-10T09:27:54.735256Z",
     "shell.execute_reply.started": "2024-08-10T09:26:14.701898Z"
    }
   },
   "outputs": [
    {
     "name": "stderr",
     "output_type": "stream",
     "text": [
      "100%|██████████| 6148/6148 [01:40<00:00, 61.46it/s]\n"
     ]
    }
   ],
   "source": [
    "test_embs = [embed_bert_cls(i, model, tokenizer) for i in tqdm(df_test['Review'].values)]"
   ]
  },
  {
   "cell_type": "markdown",
   "metadata": {},
   "source": [
    "### Обучение и валидация\n"
   ]
  },
  {
   "cell_type": "code",
   "execution_count": 13,
   "metadata": {
    "execution": {
     "iopub.execute_input": "2024-08-10T09:27:54.738034Z",
     "iopub.status.busy": "2024-08-10T09:27:54.737605Z",
     "iopub.status.idle": "2024-08-10T09:27:54.759151Z",
     "shell.execute_reply": "2024-08-10T09:27:54.758396Z",
     "shell.execute_reply.started": "2024-08-10T09:27:54.737995Z"
    }
   },
   "outputs": [],
   "source": [
    "X_train, X_val, y_train, y_val = train_test_split(train_embs, df_train['Rating'], test_size=0.2, random_state=42, stratify=df_train['Rating'])"
   ]
  },
  {
   "cell_type": "code",
   "execution_count": 14,
   "metadata": {
    "execution": {
     "iopub.execute_input": "2024-08-10T09:27:54.760763Z",
     "iopub.status.busy": "2024-08-10T09:27:54.760336Z",
     "iopub.status.idle": "2024-08-10T09:27:54.766356Z",
     "shell.execute_reply": "2024-08-10T09:27:54.765317Z",
     "shell.execute_reply.started": "2024-08-10T09:27:54.760722Z"
    }
   },
   "outputs": [],
   "source": [
    "y_train = y_train - 1\n",
    "y_val = y_val - 1"
   ]
  },
  {
   "cell_type": "code",
   "execution_count": 15,
   "metadata": {
    "execution": {
     "iopub.execute_input": "2024-08-10T09:27:54.768856Z",
     "iopub.status.busy": "2024-08-10T09:27:54.767935Z",
     "iopub.status.idle": "2024-08-10T09:27:54.801243Z",
     "shell.execute_reply": "2024-08-10T09:27:54.800342Z",
     "shell.execute_reply.started": "2024-08-10T09:27:54.768822Z"
    }
   },
   "outputs": [],
   "source": [
    "X_train = np.array(X_train)\n",
    "y_train = np.array(y_train)\n",
    "X_val = np.array(X_val)\n",
    "y_val = np.array(y_val)"
   ]
  },
  {
   "cell_type": "code",
   "execution_count": 16,
   "metadata": {
    "execution": {
     "iopub.execute_input": "2024-08-10T09:27:54.802730Z",
     "iopub.status.busy": "2024-08-10T09:27:54.802391Z",
     "iopub.status.idle": "2024-08-10T09:27:54.830594Z",
     "shell.execute_reply": "2024-08-10T09:27:54.829756Z",
     "shell.execute_reply.started": "2024-08-10T09:27:54.802690Z"
    }
   },
   "outputs": [],
   "source": [
    "X_train = torch.tensor(X_train, dtype=torch.float32)\n",
    "y_train = torch.tensor(y_train, dtype=torch.long)\n",
    "\n",
    "X_val = torch.tensor(X_val, dtype=torch.float32)\n",
    "y_val = torch.tensor(y_val, dtype=torch.long)\n",
    "\n",
    "# Определение простой нейронной сети\n",
    "class SimpleNN(nn.Module):\n",
    "    def __init__(self, input_dim, num_classes):\n",
    "        super(SimpleNN, self).__init__()\n",
    "        self.fc1 = nn.Linear(input_dim, 128)\n",
    "        self.relu = nn.ReLU()\n",
    "        self.fc2 = nn.Linear(128, num_classes)\n",
    "\n",
    "    def forward(self, x):\n",
    "        x = self.fc1(x)\n",
    "        x = self.relu(x)\n",
    "        x = self.fc2(x)\n",
    "        return x"
   ]
  },
  {
   "cell_type": "code",
   "execution_count": 17,
   "metadata": {
    "execution": {
     "iopub.execute_input": "2024-08-10T09:27:54.832185Z",
     "iopub.status.busy": "2024-08-10T09:27:54.831872Z",
     "iopub.status.idle": "2024-08-10T09:27:54.841270Z",
     "shell.execute_reply": "2024-08-10T09:27:54.840226Z",
     "shell.execute_reply.started": "2024-08-10T09:27:54.832157Z"
    }
   },
   "outputs": [],
   "source": [
    "model = SimpleNN(input_dim=X_train.shape[1], num_classes=5)\n",
    "criterion = nn.CrossEntropyLoss()\n",
    "optimizer = torch.optim.Adam(model.parameters(), lr=0.001)"
   ]
  },
  {
   "cell_type": "code",
   "execution_count": 18,
   "metadata": {
    "execution": {
     "iopub.execute_input": "2024-08-10T09:27:54.842999Z",
     "iopub.status.busy": "2024-08-10T09:27:54.842581Z",
     "iopub.status.idle": "2024-08-10T09:27:54.849128Z",
     "shell.execute_reply": "2024-08-10T09:27:54.848426Z",
     "shell.execute_reply.started": "2024-08-10T09:27:54.842962Z"
    }
   },
   "outputs": [],
   "source": [
    "train_dataset = TensorDataset(X_train, y_train)\n",
    "train_loader = DataLoader(train_dataset, batch_size=32, shuffle=True)"
   ]
  },
  {
   "cell_type": "code",
   "execution_count": 19,
   "metadata": {
    "execution": {
     "iopub.execute_input": "2024-08-10T09:27:54.851039Z",
     "iopub.status.busy": "2024-08-10T09:27:54.850432Z",
     "iopub.status.idle": "2024-08-10T09:28:03.277473Z",
     "shell.execute_reply": "2024-08-10T09:28:03.276426Z",
     "shell.execute_reply.started": "2024-08-10T09:27:54.851012Z"
    }
   },
   "outputs": [
    {
     "name": "stdout",
     "output_type": "stream",
     "text": [
      "Epoch [1/10], Loss: 1.2334\n",
      "Epoch [2/10], Loss: 1.0627\n",
      "Epoch [3/10], Loss: 1.0085\n",
      "Epoch [4/10], Loss: 0.9847\n",
      "Epoch [5/10], Loss: 0.9694\n",
      "Epoch [6/10], Loss: 0.9614\n",
      "Epoch [7/10], Loss: 0.9497\n",
      "Epoch [8/10], Loss: 0.9445\n",
      "Epoch [9/10], Loss: 0.9378\n",
      "Epoch [10/10], Loss: 0.9327\n"
     ]
    }
   ],
   "source": [
    "num_epochs = 10\n",
    "\n",
    "for epoch in range(num_epochs):\n",
    "    model.train()\n",
    "    running_loss = 0.0\n",
    "    for batch in train_loader:\n",
    "        inputs, labels = batch\n",
    "        optimizer.zero_grad()\n",
    "        outputs = model(inputs)\n",
    "        loss = criterion(outputs, labels)\n",
    "        loss.backward()\n",
    "        optimizer.step()\n",
    "        running_loss += loss.item()\n",
    "    print(f'Epoch [{epoch+1}/{num_epochs}], Loss: {running_loss/len(train_loader):.4f}')"
   ]
  },
  {
   "cell_type": "code",
   "execution_count": 20,
   "metadata": {
    "execution": {
     "iopub.execute_input": "2024-08-10T09:28:03.279637Z",
     "iopub.status.busy": "2024-08-10T09:28:03.279094Z",
     "iopub.status.idle": "2024-08-10T09:28:03.294550Z",
     "shell.execute_reply": "2024-08-10T09:28:03.293586Z",
     "shell.execute_reply.started": "2024-08-10T09:28:03.279599Z"
    }
   },
   "outputs": [
    {
     "name": "stdout",
     "output_type": "stream",
     "text": [
      "Validation Loss: 0.9574, Validation Accuracy: 0.5704\n"
     ]
    }
   ],
   "source": [
    "model.eval()\n",
    "\n",
    "with torch.no_grad():\n",
    "    val_outputs = model(X_val)\n",
    "    val_loss = criterion(val_outputs, y_val).item()\n",
    "    _, y_pred = torch.max(val_outputs, 1)\n",
    "    accuracy = accuracy_score(y_val.numpy(), y_pred.numpy())\n",
    "    print(f'Validation Loss: {val_loss:.4f}, Validation Accuracy: {accuracy:.4f}')"
   ]
  },
  {
   "cell_type": "markdown",
   "metadata": {},
   "source": [
    "### Предикты для test"
   ]
  },
  {
   "cell_type": "code",
   "execution_count": 21,
   "metadata": {
    "execution": {
     "iopub.execute_input": "2024-08-10T09:28:03.298388Z",
     "iopub.status.busy": "2024-08-10T09:28:03.298091Z",
     "iopub.status.idle": "2024-08-10T09:28:07.952416Z",
     "shell.execute_reply": "2024-08-10T09:28:07.951349Z",
     "shell.execute_reply.started": "2024-08-10T09:28:03.298362Z"
    }
   },
   "outputs": [
    {
     "name": "stderr",
     "output_type": "stream",
     "text": [
      "/tmp/ipykernel_35/1656846503.py:5: UserWarning: Creating a tensor from a list of numpy.ndarrays is extremely slow. Please consider converting the list to a single numpy.ndarray with numpy.array() before converting to a tensor. (Triggered internally at /usr/local/src/pytorch/torch/csrc/utils/tensor_new.cpp:261.)\n",
      "  X_train = torch.tensor(train_embs, dtype=torch.float32)\n"
     ]
    }
   ],
   "source": [
    "X_train = np.array(train_embs)\n",
    "y_train = df_train['Rating'] - 1 \n",
    "y_train = np.array(y_train)\n",
    "\n",
    "X_train = torch.tensor(train_embs, dtype=torch.float32)\n",
    "y_train = torch.tensor(y_train, dtype=torch.long)\n",
    "\n",
    "X_test = torch.tensor(test_embs, dtype=torch.float32)"
   ]
  },
  {
   "cell_type": "code",
   "execution_count": 22,
   "metadata": {
    "execution": {
     "iopub.execute_input": "2024-08-10T09:28:07.954252Z",
     "iopub.status.busy": "2024-08-10T09:28:07.953816Z",
     "iopub.status.idle": "2024-08-10T09:28:07.962921Z",
     "shell.execute_reply": "2024-08-10T09:28:07.961803Z",
     "shell.execute_reply.started": "2024-08-10T09:28:07.954215Z"
    }
   },
   "outputs": [],
   "source": [
    "# Создание DataLoader для обучения\n",
    "train_dataset = TensorDataset(X_train, y_train)\n",
    "train_loader = DataLoader(train_dataset, batch_size=32, shuffle=True)"
   ]
  },
  {
   "cell_type": "code",
   "execution_count": 23,
   "metadata": {
    "execution": {
     "iopub.execute_input": "2024-08-10T09:28:07.966260Z",
     "iopub.status.busy": "2024-08-10T09:28:07.964337Z",
     "iopub.status.idle": "2024-08-10T09:28:18.737249Z",
     "shell.execute_reply": "2024-08-10T09:28:18.736359Z",
     "shell.execute_reply.started": "2024-08-10T09:28:07.966223Z"
    }
   },
   "outputs": [
    {
     "name": "stdout",
     "output_type": "stream",
     "text": [
      "Epoch [1/10], Loss: 0.9306\n",
      "Epoch [2/10], Loss: 0.9291\n",
      "Epoch [3/10], Loss: 0.9240\n",
      "Epoch [4/10], Loss: 0.9183\n",
      "Epoch [5/10], Loss: 0.9141\n",
      "Epoch [6/10], Loss: 0.9110\n",
      "Epoch [7/10], Loss: 0.9082\n",
      "Epoch [8/10], Loss: 0.9044\n",
      "Epoch [9/10], Loss: 0.9005\n",
      "Epoch [10/10], Loss: 0.8994\n"
     ]
    }
   ],
   "source": [
    "num_epochs = 10\n",
    "\n",
    "for epoch in range(num_epochs):\n",
    "    model.train()\n",
    "    running_loss = 0.0\n",
    "    for batch in train_loader:\n",
    "        inputs, labels = batch\n",
    "        optimizer.zero_grad()\n",
    "        outputs = model(inputs)\n",
    "        loss = criterion(outputs, labels)\n",
    "        loss.backward()\n",
    "        optimizer.step()\n",
    "        running_loss += loss.item()\n",
    "    print(f'Epoch [{epoch+1}/{num_epochs}], Loss: {running_loss/len(train_loader):.4f}')"
   ]
  },
  {
   "cell_type": "code",
   "execution_count": 24,
   "metadata": {
    "execution": {
     "iopub.execute_input": "2024-08-10T09:28:18.739499Z",
     "iopub.status.busy": "2024-08-10T09:28:18.738553Z",
     "iopub.status.idle": "2024-08-10T09:28:18.759887Z",
     "shell.execute_reply": "2024-08-10T09:28:18.759093Z",
     "shell.execute_reply.started": "2024-08-10T09:28:18.739469Z"
    }
   },
   "outputs": [],
   "source": [
    "model.eval()\n",
    "y_pred = 0\n",
    "\n",
    "with torch.no_grad():\n",
    "    test_outputs = model(X_test)\n",
    "    _, y_pred = torch.max(test_outputs, 1)"
   ]
  },
  {
   "cell_type": "code",
   "execution_count": 25,
   "metadata": {
    "execution": {
     "iopub.execute_input": "2024-08-10T09:28:18.762304Z",
     "iopub.status.busy": "2024-08-10T09:28:18.761196Z",
     "iopub.status.idle": "2024-08-10T09:28:18.946350Z",
     "shell.execute_reply": "2024-08-10T09:28:18.945335Z",
     "shell.execute_reply.started": "2024-08-10T09:28:18.762272Z"
    }
   },
   "outputs": [],
   "source": [
    "y_pred.tolist()\n",
    "y_pred = [x.tolist() + 1 for x in y_pred]"
   ]
  },
  {
   "cell_type": "code",
   "execution_count": 26,
   "metadata": {
    "execution": {
     "iopub.execute_input": "2024-08-10T09:28:18.948626Z",
     "iopub.status.busy": "2024-08-10T09:28:18.947765Z",
     "iopub.status.idle": "2024-08-10T09:28:18.958629Z",
     "shell.execute_reply": "2024-08-10T09:28:18.957596Z",
     "shell.execute_reply.started": "2024-08-10T09:28:18.948590Z"
    }
   },
   "outputs": [],
   "source": [
    "sample_submission['Rating'] = y_pred"
   ]
  },
  {
   "cell_type": "code",
   "execution_count": 27,
   "metadata": {
    "execution": {
     "iopub.execute_input": "2024-08-10T09:28:18.960829Z",
     "iopub.status.busy": "2024-08-10T09:28:18.960127Z",
     "iopub.status.idle": "2024-08-10T09:28:18.985579Z",
     "shell.execute_reply": "2024-08-10T09:28:18.982779Z",
     "shell.execute_reply.started": "2024-08-10T09:28:18.960791Z"
    }
   },
   "outputs": [],
   "source": [
    "sample_submission.to_csv('hw__4.csv', index=False)"
   ]
  },
  {
   "attachments": {
    "8d3a9ab5-f26b-4ac8-b724-be08094154cb.png": {
     "image/png": "[encoded data removed]"
    }
   },
   "cell_type": "markdown",
   "metadata": {},
   "source": [
    "![image.png](attachment:8d3a9ab5-f26b-4ac8-b724-be08094154cb.png)"
   ]
  }
 ],
 "metadata": {
  "kaggle": {
   "accelerator": "nvidiaTeslaT4",
   "dataSources": [
    {
     "databundleVersionId": 9171440,
     "sourceId": 83101,
     "sourceType": "competition"
    }
   ],
   "dockerImageVersionId": 30747,
   "isGpuEnabled": true,
   "isInternetEnabled": true,
   "language": "python",
   "sourceType": "notebook"
  },
  "kernelspec": {
   "display_name": "Python 3 (ipykernel)",
   "language": "python",
   "name": "python3"
  },
  "language_info": {
   "codemirror_mode": {
    "name": "ipython",
    "version": 3
   },
   "file_extension": ".py",
   "mimetype": "text/x-python",
   "name": "python",
   "nbconvert_exporter": "python",
   "pygments_lexer": "ipython3",
   "version": "3.11.5"
  }
 },
 "nbformat": 4,
 "nbformat_minor": 4
}
